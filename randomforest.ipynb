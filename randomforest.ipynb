{
  "nbformat": 4,
  "nbformat_minor": 0,
  "metadata": {
    "colab": {
      "provenance": []
    },
    "kernelspec": {
      "name": "python3",
      "display_name": "Python 3"
    },
    "language_info": {
      "name": "python"
    }
  },
  "cells": [
    {
      "cell_type": "markdown",
      "source": [
        "# **Classification using random forest**"
      ],
      "metadata": {
        "id": "7nhALEBJZAsH"
      }
    },
    {
      "cell_type": "code",
      "source": [
        "import numpy as np\n",
        "import pandas as pd\n",
        "from sklearn.tree import DecisionTreeClassifier\n",
        "from sklearn.model_selection import train_test_split\n",
        "from collections import Counter\n",
        "from scipy.stats import mode\n",
        "\n",
        "# Sample dataset\n",
        "data = {\n",
        "    'Income': ['High', 'Low', 'High', 'Low', 'High', 'Low', 'High', 'Low'],\n",
        "    'Credit Score': ['Good', 'Bad', 'Bad', 'Good', 'Good', 'Bad', 'Bad', 'Good'],\n",
        "    'Age Group': ['Young', 'Old', 'Middle', 'Old', 'Middle', 'Young', 'Young', 'Middle'],\n",
        "    'Loan Approval': ['Yes', 'No', 'Yes', 'No', 'Yes', 'No', 'Yes', 'No']\n",
        "}\n",
        "\n",
        "df = pd.DataFrame(data)\n",
        "\n",
        "df_encoded = df.copy()\n",
        "for col in df_encoded.columns:\n",
        "    df_encoded[col] = df_encoded[col].astype('category').cat.codes\n",
        "\n",
        "X = df_encoded.drop(columns=['Loan Approval'])\n",
        "y = df_encoded['Loan Approval']\n",
        "\n",
        "X_train, X_test, y_train, y_test = train_test_split(X, y, test_size=0.3, random_state=42)"
      ],
      "metadata": {
        "id": "91DjYK1xdKxJ"
      },
      "execution_count": 20,
      "outputs": []
    },
    {
      "cell_type": "markdown",
      "source": [
        "random forest bootstraping"
      ],
      "metadata": {
        "id": "KghKwTtQdmTe"
      }
    },
    {
      "cell_type": "code",
      "source": [
        "def random_forest(X_train, y_train, n_trees=5, max_features=2):\n",
        "    trees = []\n",
        "    indices_list = []\n",
        "\n",
        "    for _ in range(n_trees):\n",
        "        indices = np.random.choice(len(X_train), len(X_train), replace=True)\n",
        "        indices_list.append(indices)\n",
        "        X_sample = X_train.iloc[indices]\n",
        "        y_sample = y_train.iloc[indices]\n",
        "\n",
        "        # Random feature selection\n",
        "        selected_features = np.random.choice(X_train.columns, max_features, replace=False)\n",
        "\n",
        "        # Train a decision tree on the bootstrap sample and selected features\n",
        "        tree = DecisionTreeClassifier(random_state=42)\n",
        "        tree.fit(X_sample[selected_features], y_sample)\n",
        "        trees.append((tree, selected_features))\n",
        "\n",
        "    return trees, indices_list"
      ],
      "metadata": {
        "id": "FR51IUzldcbV"
      },
      "execution_count": 21,
      "outputs": []
    },
    {
      "cell_type": "markdown",
      "source": [
        "voting based selection"
      ],
      "metadata": {
        "id": "3Kn40uNTduFm"
      }
    },
    {
      "cell_type": "code",
      "source": [
        "def predict_forest(forest, X):\n",
        "    predictions = []\n",
        "    for tree, features in forest:\n",
        "        pred = tree.predict(X[features])\n",
        "        predictions.append(pred)\n",
        "\n",
        "\n",
        "    final_predictions = np.array(predictions).T\n",
        "    return [Counter(row).most_common(1)[0][0] for row in final_predictions]\n",
        "\n",
        "\n",
        "forest, indices = random_forest(X_train, y_train, n_trees=5, max_features=2)\n",
        "\n",
        "\n",
        "y_pred = predict_forest(forest, X_test)\n",
        "\n",
        "from sklearn.metrics import accuracy_score\n",
        "accuracy = accuracy_score(y_test, y_pred)\n",
        "\n",
        "print(\"Random Forest Predictions:\", y_pred)\n",
        "print(\"Accuracy:\", accuracy)"
      ],
      "metadata": {
        "colab": {
          "base_uri": "https://localhost:8080/"
        },
        "id": "sNg3k-pCfuu1",
        "outputId": "13d3663f-f3fe-4592-de36-76c62c6b8357"
      },
      "execution_count": 22,
      "outputs": [
        {
          "output_type": "stream",
          "name": "stdout",
          "text": [
            "Random Forest Predictions: [1, 1, 0]\n",
            "Accuracy: 0.0\n"
          ]
        }
      ]
    }
  ]
}