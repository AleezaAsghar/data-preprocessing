{
 "cells": [
  {
   "cell_type": "markdown",
   "metadata": {
    "id": "kboU1DRARy_9"
   },
   "source": [
    "# **Classification problem using decison trees**"
   ]
  },
  {
   "cell_type": "code",
   "execution_count": 1,
   "metadata": {
    "id": "XGu7aT6rDdyh"
   },
   "outputs": [],
   "source": [
    "import pandas as pd\n",
    "import numpy as np\n",
    "\n",
    "data = {\n",
    "    'Income': ['High', 'Low', 'High', 'Low'],\n",
    "    'Credit Score': ['Good', 'Bad', 'Bad', 'Good'],\n",
    "    'Loan Approval': ['Yes', 'No', 'Yes', 'No']\n",
    "}\n",
    "\n",
    "df = pd.DataFrame(data)\n"
   ]
  },
  {
   "cell_type": "markdown",
   "metadata": {
    "id": "APxEGpbdRGjk"
   },
   "source": [
    "calculate entropy"
   ]
  },
  {
   "cell_type": "code",
   "execution_count": 2,
   "metadata": {
    "id": "IrAFd01-OLfE"
   },
   "outputs": [],
   "source": [
    "def calculate_entropy(labels):\n",
    "    counts = labels.value_counts().to_numpy()\n",
    "    probabilities = counts / counts.sum()\n",
    "    entropy = -np.sum(probabilities * np.log2(probabilities + 1e-9))\n",
    "    return entropy"
   ]
  },
  {
   "cell_type": "markdown",
   "metadata": {
    "id": "buoq5KnhRL9F"
   },
   "source": [
    "weighted entropy for the information gain"
   ]
  },
  {
   "cell_type": "code",
   "execution_count": 3,
   "metadata": {
    "id": "gTwC4OCjRLF8"
   },
   "outputs": [],
   "source": [
    "def calculate_weighted_entropy(feature, target):\n",
    "    unique_values = feature.unique()\n",
    "    total_entropy = 0\n",
    "    total_count = len(feature)\n",
    "\n",
    "    for value in unique_values:\n",
    "        subset = target[feature == value]\n",
    "        weight = len(subset) / total_count\n",
    "        subset_entropy = calculate_entropy(subset)\n",
    "        total_entropy += weight * subset_entropy\n",
    "\n",
    "    return total_entropy"
   ]
  },
  {
   "cell_type": "markdown",
   "metadata": {
    "id": "1BRGjLhFRZ-H"
   },
   "source": [
    "calculate information gain"
   ]
  },
  {
   "cell_type": "code",
   "execution_count": 4,
   "metadata": {
    "id": "grgIvv5aRies"
   },
   "outputs": [],
   "source": [
    "def calculate_information_gain(feature, target):\n",
    "    original_entropy = calculate_entropy(target)\n",
    "    weighted_entropy = calculate_weighted_entropy(feature, target)\n",
    "    information_gain = original_entropy - weighted_entropy\n",
    "    return information_gain"
   ]
  },
  {
   "cell_type": "markdown",
   "metadata": {
    "id": "lpy8_h28RlL-"
   },
   "source": [
    "find which feature to split at"
   ]
  },
  {
   "cell_type": "code",
   "execution_count": 5,
   "metadata": {
    "id": "-38f1yj2Rk5N"
   },
   "outputs": [],
   "source": [
    "def find_best_split(data, target):\n",
    "    best_feature = None\n",
    "    best_gain = -1\n",
    "\n",
    "    for feature in data.columns:\n",
    "        gain = calculate_information_gain(data[feature], target)\n",
    "        if gain > best_gain:\n",
    "            best_gain = gain\n",
    "            best_feature = feature\n",
    "\n",
    "    return best_feature"
   ]
  },
  {
   "cell_type": "markdown",
   "metadata": {
    "id": "vwE4BhGeRsrg"
   },
   "source": [
    "built tree"
   ]
  },
  {
   "cell_type": "code",
   "execution_count": 6,
   "metadata": {
    "colab": {
     "base_uri": "https://localhost:8080/"
    },
    "id": "8jmYyl6uRsb4",
    "outputId": "6a31b55a-0424-4d23-de8e-48a5d5c94b55"
   },
   "outputs": [
    {
     "name": "stdout",
     "output_type": "stream",
     "text": [
      "{'Income': {'High': 'Yes', 'Low': 'No'}}\n"
     ]
    }
   ],
   "source": [
    "def build_tree(data, target):\n",
    "    if len(target.unique()) == 1:\n",
    "        return target.iloc[0]\n",
    "\n",
    "    if data.empty:\n",
    "        return target.mode().iloc[0]\n",
    "\n",
    "    # Find the best feature to split on\n",
    "    best_feature = find_best_split(data, target)\n",
    "    if best_feature is None:\n",
    "        return target.mode().iloc[0]\n",
    "\n",
    "    tree = {best_feature: {}}\n",
    "\n",
    "    for value in data[best_feature].unique():\n",
    "        subset_data = data[data[best_feature] == value].drop(columns=[best_feature])\n",
    "        subset_target = target[data[best_feature] == value]\n",
    "        subtree = build_tree(subset_data, subset_target)\n",
    "        tree[best_feature][value] = subtree\n",
    "\n",
    "    return tree\n",
    "\n",
    "target_column = 'Loan Approval'\n",
    "tree = build_tree(df.drop(columns=[target_column]), df[target_column])\n",
    "\n",
    "import pprint\n",
    "pprint.pprint(tree)\n"
   ]
  }
 ],
 "metadata": {
  "colab": {
   "provenance": []
  },
  "kernelspec": {
   "display_name": "Python 3",
   "name": "python3"
  },
  "language_info": {
   "codemirror_mode": {
    "name": "ipython",
    "version": 3
   },
   "file_extension": ".py",
   "mimetype": "text/x-python",
   "name": "python",
   "nbconvert_exporter": "python",
   "pygments_lexer": "ipython3",
   "version": "3.9.13"
  }
 },
 "nbformat": 4,
 "nbformat_minor": 0
}
