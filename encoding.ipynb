{
 "cells": [
  {
   "cell_type": "markdown",
   "metadata": {},
   "source": [
    "one hot encoding"
   ]
  },
  {
   "cell_type": "code",
   "execution_count": 1,
   "metadata": {},
   "outputs": [
    {
     "name": "stdout",
     "output_type": "stream",
     "text": [
      "   Color_Blue  Color_Green  Color_Red\n",
      "0       False        False       True\n",
      "1       False         True      False\n",
      "2        True        False      False\n"
     ]
    }
   ],
   "source": [
    "import pandas as pd\n",
    "\n",
    "data = {'Color': ['Red', 'Green', 'Blue']}\n",
    "df = pd.DataFrame(data)\n",
    "\n",
    "df_one_hot = pd.get_dummies(df, columns=['Color'], drop_first=False)\n",
    "print(df_one_hot)\n"
   ]
  },
  {
   "cell_type": "markdown",
   "metadata": {},
   "source": [
    "label encoding"
   ]
  },
  {
   "cell_type": "code",
   "execution_count": 2,
   "metadata": {},
   "outputs": [
    {
     "name": "stdout",
     "output_type": "stream",
     "text": [
      "     Size  Size_Label\n",
      "0   Small           2\n",
      "1  Medium           1\n",
      "2   Large           0\n"
     ]
    }
   ],
   "source": [
    "from sklearn.preprocessing import LabelEncoder\n",
    "import pandas as pd \n",
    "\n",
    "df = pd.DataFrame({'Size': ['Small', 'Medium', 'Large']})\n",
    "\n",
    "\n",
    "label_encoder = LabelEncoder()\n",
    "df['Size_Label'] = label_encoder.fit_transform(df['Size'])\n",
    "print(df)\n"
   ]
  },
  {
   "cell_type": "markdown",
   "metadata": {},
   "source": [
    "frequency encoding "
   ]
  },
  {
   "cell_type": "code",
   "execution_count": 3,
   "metadata": {},
   "outputs": [
    {
     "name": "stdout",
     "output_type": "stream",
     "text": [
      "  City  Price  Target_Encoded\n",
      "0    A    100           120.0\n",
      "1    A    140           120.0\n",
      "2    B    200           200.0\n",
      "3    C    150           150.0\n"
     ]
    }
   ],
   "source": [
    "import pandas as pd\n",
    "\n",
    "data = {'City': ['A', 'A', 'B', 'C'], 'Price': [100, 140, 200, 150]}\n",
    "df = pd.DataFrame(data)\n",
    "\n",
    "\n",
    "mean_price_per_city = df.groupby('City')['Price'].mean()\n",
    "df['Target_Encoded'] = df['City'].map(mean_price_per_city)\n",
    "print(df)\n"
   ]
  },
  {
   "cell_type": "code",
   "execution_count": 8,
   "metadata": {},
   "outputs": [
    {
     "name": "stdout",
     "output_type": "stream",
     "text": [
      "  City  City_Frequency_Count\n",
      "0    A                     2\n",
      "1    A                     2\n",
      "2    B                     1\n",
      "3    C                     1\n"
     ]
    }
   ],
   "source": [
    "import pandas as pd\n",
    "\n",
    "\n",
    "data = {'City': ['A', 'A', 'B', 'C']}\n",
    "df = pd.DataFrame(data)\n",
    "\n",
    "\n",
    "df['City_Frequency_Count'] = df['City'].map(df['City'].value_counts())\n",
    "print(df[['City', 'City_Frequency_Count']])\n"
   ]
  }
 ],
 "metadata": {
  "kernelspec": {
   "display_name": "Python 3",
   "language": "python",
   "name": "python3"
  },
  "language_info": {
   "codemirror_mode": {
    "name": "ipython",
    "version": 3
   },
   "file_extension": ".py",
   "mimetype": "text/x-python",
   "name": "python",
   "nbconvert_exporter": "python",
   "pygments_lexer": "ipython3",
   "version": "3.9.13"
  }
 },
 "nbformat": 4,
 "nbformat_minor": 2
}
